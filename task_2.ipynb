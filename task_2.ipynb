{
 "cells": [
  {
   "cell_type": "code",
   "execution_count": 16,
   "metadata": {},
   "outputs": [],
   "source": [
    "def reachable(graph, start):\n",
    "    reachable, visited = set(), [start]\n",
    "    count=0\n",
    "    while visited:\n",
    "        node = visited.pop()\n",
    "        if node not in reachable:\n",
    "            if count !=0:\n",
    "                reachable.add(node)\n",
    "            visited.extend(graph[node])\n",
    "        count+=1\n",
    "    \n",
    "    return sorted(reachable)"
   ]
  },
  {
   "cell_type": "code",
   "execution_count": 15,
   "metadata": {},
   "outputs": [
    {
     "name": "stdout",
     "output_type": "stream",
     "text": [
      "[3, 4]\n"
     ]
    }
   ],
   "source": [
    "# Test Case 1\n",
    "\n",
    "nodes = [[1, 3], [2], [0], [4], [3], []]\n",
    "start_node = 4\n",
    "\n",
    "\n",
    "result = reachable(nodes, start_node)\n",
    "print(result) "
   ]
  },
  {
   "cell_type": "code",
   "execution_count": 14,
   "metadata": {},
   "outputs": [
    {
     "name": "stdout",
     "output_type": "stream",
     "text": [
      "[4, 5]\n"
     ]
    }
   ],
   "source": [
    "# Test Case 2\n",
    "\n",
    "nodes= [[1], [2], [3], [4], [5], []]\n",
    "start_node = 3\n",
    "\n",
    "\n",
    "result = reachable(nodes, start_node)\n",
    "print(result)"
   ]
  },
  {
   "cell_type": "code",
   "execution_count": 13,
   "metadata": {},
   "outputs": [
    {
     "name": "stdout",
     "output_type": "stream",
     "text": [
      "[6, 7, 8, 9]\n"
     ]
    }
   ],
   "source": [
    "# Test Case 3\n",
    "\n",
    "nodes = [[1, 4], [2, 3], [5], [5, 6], [6, 7], [8], [8, 9], [], [9], []]\n",
    "\n",
    "\n",
    "start_node = 4\n",
    "\n",
    "\n",
    "result = reachable(nodes, start_node)\n",
    "print(result)"
   ]
  },
  {
   "cell_type": "code",
   "execution_count": null,
   "metadata": {},
   "outputs": [],
   "source": []
  },
  {
   "cell_type": "code",
   "execution_count": null,
   "metadata": {},
   "outputs": [],
   "source": []
  }
 ],
 "metadata": {
  "kernelspec": {
   "display_name": "Python 3",
   "language": "python",
   "name": "python3"
  },
  "language_info": {
   "codemirror_mode": {
    "name": "ipython",
    "version": 3
   },
   "file_extension": ".py",
   "mimetype": "text/x-python",
   "name": "python",
   "nbconvert_exporter": "python",
   "pygments_lexer": "ipython3",
   "version": "3.10.12"
  }
 },
 "nbformat": 4,
 "nbformat_minor": 2
}
