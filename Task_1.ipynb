{
 "cells": [
  {
   "cell_type": "code",
   "execution_count": 11,
   "metadata": {},
   "outputs": [],
   "source": [
    "def mat_to_list(adj_mat):\n",
    "    adj_list = [[] for _ in range(len(adj_mat))]\n",
    "    for i, row in enumerate(adj_mat):\n",
    "    \tadj_list[i] = [j for j, val in enumerate(row) if val == 1]\n",
    "    return adj_list"
   ]
  },
  {
   "cell_type": "code",
   "execution_count": 12,
   "metadata": {},
   "outputs": [],
   "source": [
    "#Test Cases\n",
    "\n",
    "adj_mat_1 =   [[0, 1, 0, 1, 0, 0],\n",
    "             [0, 0, 1, 0, 0, 0],\n",
    "             [1, 0, 0, 0, 0, 0],\n",
    "             [0, 0, 0, 0, 1, 0],\n",
    "             [0, 0, 0, 1, 0, 0],\n",
    "             [0, 0, 0, 0, 0, 0]]\n",
    "\n",
    "adj_mat_2 = [[0, 1, 1, 0],\n",
    "             [0, 0, 0, 1],\n",
    "             [0, 1, 0, 1],\n",
    "             [0, 0, 0, 0]]\n",
    "\n",
    "adj_mat_3 = [[0, 1, 0, 0, 1],\n",
    "             [0, 0, 1, 0, 0],\n",
    "             [0, 0, 0, 1, 1],\n",
    "             [0, 0, 0, 0, 0],\n",
    "             [1, 0, 0, 0, 0]]"
   ]
  },
  {
   "cell_type": "code",
   "execution_count": 13,
   "metadata": {},
   "outputs": [
    {
     "data": {
      "text/plain": [
       "[[1, 3], [2], [0], [4], [3], []]"
      ]
     },
     "execution_count": 13,
     "metadata": {},
     "output_type": "execute_result"
    }
   ],
   "source": [
    "mat_to_list(adj_mat_1)"
   ]
  },
  {
   "cell_type": "code",
   "execution_count": 14,
   "metadata": {},
   "outputs": [
    {
     "data": {
      "text/plain": [
       "[[1, 2], [3], [1, 3], []]"
      ]
     },
     "execution_count": 14,
     "metadata": {},
     "output_type": "execute_result"
    }
   ],
   "source": [
    "mat_to_list(adj_mat_2)"
   ]
  },
  {
   "cell_type": "code",
   "execution_count": 15,
   "metadata": {},
   "outputs": [
    {
     "data": {
      "text/plain": [
       "[[1, 4], [2], [3, 4], [], [0]]"
      ]
     },
     "execution_count": 15,
     "metadata": {},
     "output_type": "execute_result"
    }
   ],
   "source": [
    "mat_to_list(adj_mat_3)"
   ]
  },
  {
   "cell_type": "code",
   "execution_count": null,
   "metadata": {},
   "outputs": [],
   "source": []
  }
 ],
 "metadata": {
  "kernelspec": {
   "display_name": "Python 3",
   "language": "python",
   "name": "python3"
  },
  "language_info": {
   "codemirror_mode": {
    "name": "ipython",
    "version": 3
   },
   "file_extension": ".py",
   "mimetype": "text/x-python",
   "name": "python",
   "nbconvert_exporter": "python",
   "pygments_lexer": "ipython3",
   "version": "3.10.12"
  }
 },
 "nbformat": 4,
 "nbformat_minor": 2
}
